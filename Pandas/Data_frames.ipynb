{
 "cells": [
  {
   "cell_type": "code",
   "execution_count": null,
   "id": "1bddc0e6",
   "metadata": {},
   "outputs": [],
   "source": [
    "import numpy as np\n",
    "import pandas as pd "
   ]
  },
  {
   "cell_type": "markdown",
   "id": "9b7b66ee",
   "metadata": {},
   "source": [
    "creating a dataframe"
   ]
  },
  {
   "cell_type": "code",
   "execution_count": null,
   "id": "92c2607e",
   "metadata": {},
   "outputs": [
    {
     "data": {
      "text/html": [
       "<div>\n",
       "<style scoped>\n",
       "    .dataframe tbody tr th:only-of-type {\n",
       "        vertical-align: middle;\n",
       "    }\n",
       "\n",
       "    .dataframe tbody tr th {\n",
       "        vertical-align: top;\n",
       "    }\n",
       "\n",
       "    .dataframe thead th {\n",
       "        text-align: right;\n",
       "    }\n",
       "</style>\n",
       "<table border=\"1\" class=\"dataframe\">\n",
       "  <thead>\n",
       "    <tr style=\"text-align: right;\">\n",
       "      <th></th>\n",
       "      <th>Name</th>\n",
       "      <th>age</th>\n",
       "      <th>city</th>\n",
       "      <th>salary</th>\n",
       "    </tr>\n",
       "  </thead>\n",
       "  <tbody>\n",
       "    <tr>\n",
       "      <th>0</th>\n",
       "      <td>sumit</td>\n",
       "      <td>28</td>\n",
       "      <td>new york</td>\n",
       "      <td>65000</td>\n",
       "    </tr>\n",
       "    <tr>\n",
       "      <th>1</th>\n",
       "      <td>rahul</td>\n",
       "      <td>34</td>\n",
       "      <td>paris</td>\n",
       "      <td>70000</td>\n",
       "    </tr>\n",
       "    <tr>\n",
       "      <th>2</th>\n",
       "      <td>peter</td>\n",
       "      <td>29</td>\n",
       "      <td>berlin</td>\n",
       "      <td>62000</td>\n",
       "    </tr>\n",
       "    <tr>\n",
       "      <th>3</th>\n",
       "      <td>linda</td>\n",
       "      <td>42</td>\n",
       "      <td>london</td>\n",
       "      <td>85000</td>\n",
       "    </tr>\n",
       "  </tbody>\n",
       "</table>\n",
       "</div>"
      ],
      "text/plain": [
       "    Name  age      city  salary\n",
       "0  sumit   28  new york   65000\n",
       "1  rahul   34     paris   70000\n",
       "2  peter   29    berlin   62000\n",
       "3  linda   42    london   85000"
      ]
     },
     "execution_count": 2,
     "metadata": {},
     "output_type": "execute_result"
    }
   ],
   "source": [
    "import numpy as np\n",
    "import pandas as pd\n",
    "\n",
    "data = {\n",
    "    'Name':['sumit','rahul','peter','linda'],\n",
    "    'age':[28,34,29,42],\n",
    "    'city':['new york','paris','berlin','london'],\n",
    "    'salary':[65000,70000,62000,85000]\n",
    "}\n",
    "\n",
    "df = pd.DataFrame(data)"
   ]
  },
  {
   "cell_type": "code",
   "execution_count": 8,
   "id": "3e653171",
   "metadata": {},
   "outputs": [
    {
     "name": "stdout",
     "output_type": "stream",
     "text": [
      "       0   1         2       3\n",
      "0   john  28  new york   65000\n",
      "1   anna  34     paris   70000\n",
      "2  peter  29    berlin  620000\n",
      "3  linda  42    london  850000\n",
      "adding columns\n",
      "    name age      city  salary\n",
      "0   john  28  new york   65000\n",
      "1   anna  34     paris   70000\n",
      "2  peter  29    berlin  620000\n",
      "3  linda  42    london  850000\n"
     ]
    }
   ],
   "source": [
    "data_list = [\n",
    "    ['john','28','new york',65000],\n",
    "    ['anna',34,'paris',70000],\n",
    "    ['peter',29,'berlin',620000],\n",
    "    ['linda',42,'london','850000']\n",
    "]\n",
    "\n",
    "df2 = pd.DataFrame(data_list);\n",
    "print(df2)\n",
    "print(\"adding columns\")\n",
    "columns = [\"name\",\"age\",\"city\",\"salary\"]\n",
    "df2 = pd.DataFrame(data_list,columns=columns);\n",
    "print(df2)"
   ]
  },
  {
   "cell_type": "markdown",
   "id": "651e6a6a",
   "metadata": {},
   "source": [
    "selection and indexing of columns "
   ]
  },
  {
   "cell_type": "code",
   "execution_count": 12,
   "id": "905cff3b",
   "metadata": {},
   "outputs": [
    {
     "name": "stdout",
     "output_type": "stream",
     "text": [
      "0     john\n",
      "1     anna\n",
      "2    peter\n",
      "3    linda\n",
      "Name: name, dtype: object\n",
      "0    new york\n",
      "1       paris\n",
      "2      berlin\n",
      "3      london\n",
      "Name: city, dtype: object\n",
      "0     65000\n",
      "1     70000\n",
      "2    620000\n",
      "3    850000\n",
      "Name: salary, dtype: object\n"
     ]
    }
   ],
   "source": [
    "print(df2['name']);\n",
    "print(df2['city']);\n",
    "print(df2['salary'])"
   ]
  },
  {
   "cell_type": "code",
   "execution_count": 13,
   "id": "8bb8157f",
   "metadata": {},
   "outputs": [
    {
     "name": "stdout",
     "output_type": "stream",
     "text": [
      "    name      city\n",
      "0   john  new york\n",
      "1   anna     paris\n",
      "2  peter    berlin\n",
      "3  linda    london\n"
     ]
    }
   ],
   "source": [
    "print(df2[[\"name\",\"city\"]])"
   ]
  },
  {
   "cell_type": "markdown",
   "id": "662f03bd",
   "metadata": {},
   "source": [
    "creating a markdown"
   ]
  },
  {
   "cell_type": "code",
   "execution_count": null,
   "id": "1d2044ff",
   "metadata": {},
   "outputs": [],
   "source": []
  }
 ],
 "metadata": {
  "kernelspec": {
   "display_name": "Python 3",
   "language": "python",
   "name": "python3"
  },
  "language_info": {
   "codemirror_mode": {
    "name": "ipython",
    "version": 3
   },
   "file_extension": ".py",
   "mimetype": "text/x-python",
   "name": "python",
   "nbconvert_exporter": "python",
   "pygments_lexer": "ipython3",
   "version": "3.13.2"
  }
 },
 "nbformat": 4,
 "nbformat_minor": 5
}
