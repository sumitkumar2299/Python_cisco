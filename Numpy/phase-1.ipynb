{
 "cells": [
  {
   "cell_type": "code",
   "execution_count": null,
   "id": "a0282a4a",
   "metadata": {},
   "outputs": [],
   "source": [
    "## Numpy array and basics\n",
    "# learn about numpy "
   ]
  },
  {
   "cell_type": "code",
   "execution_count": 1,
   "id": "21d22f7e",
   "metadata": {},
   "outputs": [],
   "source": [
    "import numpy as np"
   ]
  },
  {
   "cell_type": "code",
   "execution_count": 2,
   "id": "3526a4ae",
   "metadata": {},
   "outputs": [],
   "source": [
    "# creating array from list"
   ]
  },
  {
   "cell_type": "code",
   "execution_count": 4,
   "id": "8883bf3f",
   "metadata": {},
   "outputs": [
    {
     "name": "stdout",
     "output_type": "stream",
     "text": [
      "1d array:  [1 2 3 4 5]\n",
      "2d array: [[1 2 3]\n",
      " [4 5 6]]\n"
     ]
    }
   ],
   "source": [
    "arr_1d = np.array([1,2,3,4,5]);\n",
    "print(\"1d array: \", arr_1d)\n",
    "\n",
    "arr_2d = np.array([[1,2,3],[4,5,6]])\n",
    "print(\"2d array:\", arr_2d)"
   ]
  },
  {
   "cell_type": "code",
   "execution_count": 4,
   "id": "ab56daa4",
   "metadata": {},
   "outputs": [
    {
     "name": "stdout",
     "output_type": "stream",
     "text": [
      "python list multiplication [1, 2, 3, 4, 1, 2, 3, 4]\n",
      "python array multiplication [2 4 6]\n",
      "\n",
      " list operation time : 0.0066204071044921875\n",
      "\n",
      " Numpy operation time 0.0010569095611572266\n"
     ]
    }
   ],
   "source": [
    "# list vs numpy array\n",
    "import numpy as np\n",
    "py_list = [1,2,3,4]\n",
    "print(\"python list multiplication\",py_list*2)\n",
    "\n",
    "np_array = np.array([1,2,3]); # element wise multiplication \n",
    "print(\"python array multiplication\",np_array*2);\n",
    "\n",
    "import time\n",
    "\n",
    "start = time.time()\n",
    "py_list = [i*2 for i in range(100000)]\n",
    "print(\"\\n list operation time :\",time.time()-start )\n",
    "\n",
    "start = time.time()\n",
    "np_array = np.arange(10000)*2\n",
    "print(\"\\n Numpy operation time\",time.time()-start)\n",
    "\n",
    "\n"
   ]
  },
  {
   "cell_type": "code",
   "execution_count": 8,
   "id": "4fcc78ed",
   "metadata": {},
   "outputs": [
    {
     "name": "stdout",
     "output_type": "stream",
     "text": [
      "zeroes array:\n",
      " [[0. 0. 0. 0.]\n",
      " [0. 0. 0. 0.]\n",
      " [0. 0. 0. 0.]]\n",
      "one array: \n",
      " [[1. 1. 1.]\n",
      " [1. 1. 1.]]\n",
      "full array: \n",
      " [[7 7]\n",
      " [7 7]]\n",
      "random array: \n",
      " [[0.22054614 0.22304372 0.10262501]\n",
      " [0.63853811 0.41380857 0.95025975]]\n",
      "sequence array:\n",
      " [0 2 4 6 8]\n"
     ]
    }
   ],
   "source": [
    "# creating array from scratch \n",
    "\n",
    "zeroes = np.zeros((3,4))\n",
    "print(\"zeroes array:\\n\",zeroes)\n",
    "\n",
    "ones = np.ones((2,3))\n",
    "print(\"one array: \\n\",ones)\n",
    "\n",
    "full = np.full((2,2),7)\n",
    "print(\"full array: \\n\",full)\n",
    "\n",
    "random = np.random.random((2,3))\n",
    "print(\"random array: \\n\",random);\n",
    "\n",
    "\n",
    "sequence = np.arange(0,10,2)\n",
    "print(\"sequence array:\\n\",sequence)\n"
   ]
  },
  {
   "cell_type": "code",
   "execution_count": 15,
   "id": "1b47f6b8",
   "metadata": {},
   "outputs": [
    {
     "name": "stdout",
     "output_type": "stream",
     "text": [
      "vector [1 2 3]\n",
      "matrix \n",
      " [[1 2 3]\n",
      " [4 5 6]\n",
      " [7 8 9]]\n"
     ]
    }
   ],
   "source": [
    "# vector,matrix,tensor\n",
    "vector = np.array([1,2,3])\n",
    "print(\"vector\",vector)\n",
    "\n",
    "matrix = np.array([[1,2,3],\n",
    "                   [4,5,6],\n",
    "                   [7,8,9]\n",
    "                   ])\n",
    "print(\"matrix \\n\",matrix)\n",
    "\n",
    "\n",
    "# tensor = np.array([[[1,2], [3.4]],\n",
    "#                    [[5,6],[7,8]]\n",
    "#                    ])\n",
    "# print(\"tensor\",tensor);"
   ]
  },
  {
   "cell_type": "code",
   "execution_count": 16,
   "id": "d8d3ce0b",
   "metadata": {},
   "outputs": [
    {
     "name": "stdout",
     "output_type": "stream",
     "text": [
      "shape (2, 3)\n",
      "dimension 2\n",
      "size 6\n",
      "DataType int64\n"
     ]
    }
   ],
   "source": [
    "# array properties \n",
    "\n",
    "arr = np.array([[1,2,3],\n",
    "                [4,5,6]\n",
    "                ])\n",
    "print(\"shape\",arr.shape)\n",
    "print(\"dimension\",arr.ndim)\n",
    "print(\"size\",arr.size)\n",
    "print(\"DataType\",arr.dtype)"
   ]
  },
  {
   "cell_type": "code",
   "execution_count": 20,
   "id": "39dcc49a",
   "metadata": {},
   "outputs": [
    {
     "name": "stdout",
     "output_type": "stream",
     "text": [
      "original array [ 0  1  2  3  4  5  6  7  8  9 10 11]\n",
      "reshaped \n",
      " [[ 0  1  2  3]\n",
      " [ 4  5  6  7]\n",
      " [ 8  9 10 11]]\n",
      "flattend array \n",
      " [ 0  1  2  3  4  5  6  7  8  9 10 11]\n",
      "\n",
      " raveled array [ 0  1  2  3  4  5  6  7  8  9 10 11]\n",
      "\n",
      " transposed array [[ 0  4  8]\n",
      " [ 1  5  9]\n",
      " [ 2  6 10]\n",
      " [ 3  7 11]]\n"
     ]
    }
   ],
   "source": [
    "# array reshaping \n",
    "\n",
    "arr = np.arange(12)\n",
    "print(\"original array\",arr)\n",
    "\n",
    "reshaped = arr.reshape((3,4));\n",
    "print(\"reshaped \\n\",reshaped)\n",
    "\n",
    "flattened = reshaped.flatten();\n",
    "print(\"flattend array \\n\",flattened)\n",
    "\n",
    "\n",
    "# ravel(returns view, instad of copy)\n",
    "raveled = reshaped.ravel()\n",
    "print(\"\\n raveled array\",raveled)\n",
    "\n",
    "\n",
    "# transpose of a matrix \n",
    "transpose = reshaped.T\n",
    "print(\"\\n transposed array\", transpose)\n"
   ]
  }
 ],
 "metadata": {
  "kernelspec": {
   "display_name": "Python 3",
   "language": "python",
   "name": "python3"
  },
  "language_info": {
   "codemirror_mode": {
    "name": "ipython",
    "version": 3
   },
   "file_extension": ".py",
   "mimetype": "text/x-python",
   "name": "python",
   "nbconvert_exporter": "python",
   "pygments_lexer": "ipython3",
   "version": "3.13.2"
  }
 },
 "nbformat": 4,
 "nbformat_minor": 5
}
