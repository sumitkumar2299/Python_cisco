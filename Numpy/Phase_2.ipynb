{
 "cells": [
  {
   "cell_type": "markdown",
   "id": "00f79ae1",
   "metadata": {},
   "source": [
    "## Numpy array operations"
   ]
  },
  {
   "cell_type": "code",
   "execution_count": 1,
   "id": "d566cae1",
   "metadata": {},
   "outputs": [],
   "source": [
    "import numpy as np\n"
   ]
  },
  {
   "cell_type": "code",
   "execution_count": 3,
   "id": "37008382",
   "metadata": {},
   "outputs": [
    {
     "name": "stdout",
     "output_type": "stream",
     "text": [
      "Basic slicing [3 4 5 6 7]\n",
      "with steps [2 4 6 8]\n",
      "negative indexing 7\n"
     ]
    }
   ],
   "source": [
    "array =  np.array([1,2,3,4,5,6,7,8,9]);\n",
    "print(\"Basic slicing\",array[2:7])\n",
    "print(\"with steps\",array[1:8:2])\n",
    "print(\"negative indexing\",array[-3])\n"
   ]
  },
  {
   "cell_type": "code",
   "execution_count": null,
   "id": "c0514fd8",
   "metadata": {},
   "outputs": [
    {
     "name": "stdout",
     "output_type": "stream",
     "text": [
      "specific element 6\n",
      "entire row [4 5 6]\n",
      "entire column [2 5 8]\n"
     ]
    }
   ],
   "source": [
    "arr_2d = np.array([[1,2,3],\n",
    "                   [4,5,6],\n",
    "                   [7,8,9]\n",
    "                   ])\n",
    "print(\"specific element\",arr_2d[1,2])\n",
    "# gives 2nd element of 1st row \n",
    "print(\"entire row\",arr_2d[1]);\n",
    "# gives entire row \n",
    "\n",
    "print(\"entire column\",arr_2d[:,1])\n",
    "# gives 1st column\n",
    "\n"
   ]
  },
  {
   "cell_type": "markdown",
   "id": "92937bd4",
   "metadata": {},
   "source": [
    "## sorting "
   ]
  },
  {
   "cell_type": "code",
   "execution_count": null,
   "id": "3d7c288e",
   "metadata": {},
   "outputs": [
    {
     "name": "stdout",
     "output_type": "stream",
     "text": [
      "sorted arary [1 1 2 3 4 5 6 9]\n",
      "sorted 2d array by column [[1 1]\n",
      " [2 2]\n",
      " [3 3]]\n"
     ]
    }
   ],
   "source": [
    "import numpy as np\n",
    "unsorted = np.array([3,1,4,1,5,9,2,6])\n",
    "print('sorted arary',np.sort(unsorted));\n",
    "\n",
    "\n",
    "arr_2d_unsorted = np.array([[3,1],[1,2],[2,3]])\n",
    "print(\"sorted 2d array by column\",np.sort(arr_2d_unsorted,axis= 0))\n",
    "# axis = 1 for row \n"
   ]
  },
  {
   "cell_type": "markdown",
   "id": "998f2373",
   "metadata": {},
   "source": [
    "## filter"
   ]
  },
  {
   "cell_type": "code",
   "execution_count": null,
   "id": "259152a2",
   "metadata": {},
   "outputs": [
    {
     "name": "stdout",
     "output_type": "stream",
     "text": [
      "even numbers [ 2  4  6  8 10]\n"
     ]
    }
   ],
   "source": [
    "numbers = np.array([1,2,3,4,5,6,7,8,9,10])\n",
    "even_number = numbers[numbers%2 == 0]\n",
    "print(\"even numbers\",even_number)\n",
    "\n",
    "\n"
   ]
  },
  {
   "cell_type": "markdown",
   "id": "cb72959d",
   "metadata": {},
   "source": [
    "## filter with mask "
   ]
  },
  {
   "cell_type": "code",
   "execution_count": null,
   "id": "2418c26a",
   "metadata": {},
   "outputs": [
    {
     "name": "stdout",
     "output_type": "stream",
     "text": [
      "numbers greater than 5  [ 6  7  8  9 10]\n"
     ]
    }
   ],
   "source": [
    "mask = numbers>5\n",
    "print(\"numbers greater than 5 \",numbers[mask])\n"
   ]
  },
  {
   "cell_type": "markdown",
   "id": "abeb161a",
   "metadata": {},
   "source": [
    "## fancy indexing vs np.where()"
   ]
  },
  {
   "cell_type": "code",
   "execution_count": 10,
   "id": "50e7678f",
   "metadata": {},
   "outputs": [
    {
     "name": "stdout",
     "output_type": "stream",
     "text": [
      "[1 3 5]\n",
      "Np where [ 6  7  8  9 10]\n"
     ]
    }
   ],
   "source": [
    "indices = [0,2,4]\n",
    "print(numbers[indices])\n",
    "\n",
    "\n",
    "where_result = np.where(numbers>5)\n",
    "# print(where_result)\n",
    "print(\"Np where\",numbers[where_result])"
   ]
  },
  {
   "cell_type": "code",
   "execution_count": 13,
   "id": "c7b6336d",
   "metadata": {},
   "outputs": [
    {
     "name": "stdout",
     "output_type": "stream",
     "text": [
      "[ 1  2  3  4  5 12 14 16 18 20]\n"
     ]
    }
   ],
   "source": [
    "condition_array = np.where(numbers>5,numbers*2,numbers)\n",
    "print(condition_array)\n"
   ]
  },
  {
   "cell_type": "code",
   "execution_count": null,
   "id": "f7f454f8",
   "metadata": {},
   "outputs": [],
   "source": [
    "##\n",
    "#samajhne ke liye \n",
    "# if(numbers>5){\n",
    "#     numbers*4\n",
    "# }else{\n",
    "#     numbers\n",
    "# }"
   ]
  },
  {
   "cell_type": "markdown",
   "id": "b60cfe44",
   "metadata": {},
   "source": [
    "## adding and removing data "
   ]
  },
  {
   "cell_type": "code",
   "execution_count": null,
   "id": "de58c1b0",
   "metadata": {},
   "outputs": [
    {
     "name": "stdout",
     "output_type": "stream",
     "text": [
      "[11 13 15 17]\n",
      "[ 1  2  3  4 10 11 12 13]\n"
     ]
    }
   ],
   "source": [
    "arr1 = np.array([1,2,3,4])\n",
    "arr2 = np.array([10,11,12,13])\n",
    "# this is wrong. this will not work  \n",
    "combined = arr1+arr2\n",
    "print(combined)\n",
    "\n",
    "combined1 = np.concatenate((arr1,arr2))\n",
    "print(combined1)\n",
    "\n"
   ]
  },
  {
   "cell_type": "markdown",
   "id": "5bd764f7",
   "metadata": {},
   "source": [
    "## array compatiblity "
   ]
  },
  {
   "cell_type": "code",
   "execution_count": 18,
   "id": "6cdf35d4",
   "metadata": {},
   "outputs": [
    {
     "name": "stdout",
     "output_type": "stream",
     "text": [
      "compatibility shapes False\n"
     ]
    }
   ],
   "source": [
    "a = np.array([1,2,3])\n",
    "b = np.array([4,5,6,7])\n",
    "c = np.array([7,8,9])\n",
    "\n",
    "print(\"compatibility shapes\",a.shape == b.shape)"
   ]
  },
  {
   "cell_type": "code",
   "execution_count": 20,
   "id": "daa1d045",
   "metadata": {},
   "outputs": [
    {
     "name": "stdout",
     "output_type": "stream",
     "text": [
      "[[1 2]\n",
      " [3 4]]\n",
      "[[1 2]\n",
      " [3 4]\n",
      " [5 6]]\n",
      "with new column [[1 2 7]\n",
      " [3 4 8]]\n"
     ]
    }
   ],
   "source": [
    "original = np.array([[1,2],[3,4]])\n",
    "new_row = np.array([[5,6]])\n",
    "\n",
    "with_new_row = np.vstack((original,new_row))\n",
    "print(original);\n",
    "print(with_new_row)\n",
    "\n",
    "new_col = np.array([[7],[8]])\n",
    "with_new_col = np.hstack((original,new_col))\n",
    "print(\"with new column\",with_new_col)"
   ]
  },
  {
   "cell_type": "code",
   "execution_count": 22,
   "id": "ccc38e8b",
   "metadata": {},
   "outputs": [
    {
     "name": "stdout",
     "output_type": "stream",
     "text": [
      "array after deletion [1 2 4 5]\n"
     ]
    }
   ],
   "source": [
    "arr = np.array([1,2,3,4,5])\n",
    "deleted = np.delete(arr,2)\n",
    "print(\"array after deletion\",deleted)"
   ]
  }
 ],
 "metadata": {
  "kernelspec": {
   "display_name": "Python 3",
   "language": "python",
   "name": "python3"
  },
  "language_info": {
   "codemirror_mode": {
    "name": "ipython",
    "version": 3
   },
   "file_extension": ".py",
   "mimetype": "text/x-python",
   "name": "python",
   "nbconvert_exporter": "python",
   "pygments_lexer": "ipython3",
   "version": "3.13.2"
  }
 },
 "nbformat": 4,
 "nbformat_minor": 5
}
