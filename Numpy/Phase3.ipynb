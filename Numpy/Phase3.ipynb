{
 "cells": [
  {
   "cell_type": "markdown",
   "id": "e85a5668",
   "metadata": {},
   "source": [
    "## advance operation with business examples "
   ]
  },
  {
   "cell_type": "code",
   "execution_count": null,
   "id": "85a1ae9b",
   "metadata": {},
   "outputs": [
    {
     "name": "stdout",
     "output_type": "stream",
     "text": [
      "[[      1  150000  180000  220000   25000]\n",
      " [      2  120000  140000  160000  190000]\n",
      " [      3  200000  230000  260000  300000]\n",
      " [      4  180000  210000  240000  270000]\n",
      " [      5  160000 1850000  200000  230000]]\n",
      "===zomato sales analysis ===\n",
      "salses data shape (5, 5)\n",
      "\n",
      " sample data for first 3 restaurnants: [[     1 150000 180000 220000  25000]\n",
      " [     2 120000 140000 160000 190000]\n",
      " [     3 200000 230000 260000 300000]]\n"
     ]
    }
   ],
   "source": [
    "import numpy as np\n",
    "import matplotlib.pyplot as plt\n",
    "sales_data = np.array([\n",
    "    [1,150000,180000,220000,25000],#paradise biryani \n",
    "    [2,120000,140000,160000,190000],#beijing bytes \n",
    "    [3,200000,230000,260000,300000],# pizza hub \n",
    "    [4,180000,210000,240000,270000],# burger point \n",
    "    [5,160000,1850000,200000,230000]#chai point\n",
    "])\n",
    "print(sales_data)\n",
    "print(\"===zomato sales analysis ===\")\n",
    "print(\"salses data shape\",sales_data.shape)\n",
    "print(\"\\n sample data for first 3 restaurnants:\",sales_data[:3])\n",
    "\n"
   ]
  },
  {
   "cell_type": "code",
   "execution_count": null,
   "id": "e66037df",
   "metadata": {},
   "outputs": [
    {
     "name": "stdout",
     "output_type": "stream",
     "text": [
      "[     15  810000 2610000 1080000 1015000]\n",
      "[ 810000 2610000 1080000 1015000]\n",
      "[ 25000 120000 200000 180000 160000]\n"
     ]
    }
   ],
   "source": [
    "# total sales per year \n",
    "print(np.sum(sales_data,axis = 0))\n",
    "yearLy_total = np.sum(sales_data[:,1:],axis = 0)\n",
    "print(yearLy_total);\n",
    "\n",
    "\n",
    "# minimum sales per restaurant \n",
    "min_sales = np.min(sales_data[:,1:],axis = 1)\n",
    "print(min_sales);\n",
    "\n",
    "\n"
   ]
  }
 ],
 "metadata": {
  "kernelspec": {
   "display_name": "Python 3",
   "language": "python",
   "name": "python3"
  },
  "language_info": {
   "codemirror_mode": {
    "name": "ipython",
    "version": 3
   },
   "file_extension": ".py",
   "mimetype": "text/x-python",
   "name": "python",
   "nbconvert_exporter": "python",
   "pygments_lexer": "ipython3",
   "version": "3.13.2"
  }
 },
 "nbformat": 4,
 "nbformat_minor": 5
}
